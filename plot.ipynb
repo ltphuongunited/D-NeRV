{
 "cells": [
  {
   "cell_type": "code",
   "execution_count": 2,
   "metadata": {},
   "outputs": [],
   "source": [
    "import numpy as np"
   ]
  },
  {
   "cell_type": "code",
   "execution_count": 3,
   "metadata": {},
   "outputs": [
    {
     "data": {
      "text/plain": [
       "{'DCVC-DC': {'psnr': [], 'msssim': [], 'bpp': [], 'bpp (ssim)': []},\n",
       " 'DCVC-HEM': {'psnr': [], 'msssim': [], 'bpp': [], 'bpp (ssim)': []},\n",
       " 'DCVC': {'psnr': [], 'msssim': [], 'bpp': [], 'bpp (ssim)': []},\n",
       " 'VCT': {'psnr': [], 'msssim': [], 'bpp': [], 'bpp (ssim)': []},\n",
       " 'VTM-21.2 (RA)': {'psnr': [], 'msssim': [], 'bpp': [], 'bpp (ssim)': []},\n",
       " 'VTM-15.0 (LD)': {'psnr': [], 'msssim': [], 'bpp': [], 'bpp (ssim)': []},\n",
       " 'HM-17.0 (RA)': {'psnr': [], 'msssim': [], 'bpp': [], 'bpp (ssim)': []},\n",
       " 'x.265 (med)': {'psnr': [], 'msssim': [], 'bpp': [], 'bpp (ssim)': []},\n",
       " 'x.264 (med)': {'psnr': [], 'msssim': [], 'bpp': [], 'bpp (ssim)': []},\n",
       " 'D-NeRV': {'psnr': [], 'msssim': [], 'bpp': [], 'bpp (ssim)': []},\n",
       " 'HNeRV': {'psnr': [], 'msssim': [], 'bpp': [], 'bpp (ssim)': []},\n",
       " 'NeRV': {'psnr': [], 'msssim': [], 'bpp': [], 'bpp (ssim)': []},\n",
       " 'HDNeRV': {'psnr': [], 'msssim': [], 'bpp': [], 'bpp (ssim)': []},\n",
       " 'HDNeRV+': {'psnr': [], 'msssim': [], 'bpp': [], 'bpp (ssim)': []}}"
      ]
     },
     "execution_count": 3,
     "metadata": {},
     "output_type": "execute_result"
    }
   ],
   "source": [
    "#@title Setup for result collection\n",
    "learnings = [\"DCVC-DC\", \"DCVC-HEM\", \"DCVC\", \"VCT\"]\n",
    "traditional = [\"VTM-21.2 (RA)\", \"VTM-15.0 (LD)\", \"HM-17.0 (RA)\", \"x.265 (med)\", \"x.264 (med)\"]\n",
    "nervs = [\"D-NeRV\", \"HNeRV\", \"NeRV\", \"HDNeRV\", \"HDNeRV+\"]\n",
    "\n",
    "results = {method: {\"mssim\": [], \"msssim\": [], \"bpp\": [], \"bpp (ssim)\": []} for method in (learnings + traditional + nervs)}\n",
    "results"
   ]
  },
  {
   "cell_type": "code",
   "execution_count": 4,
   "metadata": {},
   "outputs": [],
   "source": [
    "results['DCVC'] = {'mssim': np.array([35.78941888, 37.40083902, 38.85134931, 40.22033862]),\n",
    "                    'msssim': np.array([0.98151375, 0.98764231, 0.99195268, 0.99454133]),\n",
    "                    'bpp': np.array([0.02422309, 0.03487946, 0.05071599, 0.07550257]),\n",
    "                    'bpp (ssim)': np.array([0.04521711, 0.06859557, 0.10913403, 0.15877153])}"
   ]
  },
  {
   "cell_type": "code",
   "execution_count": 5,
   "metadata": {},
   "outputs": [],
   "source": [
    "results['DCVC-DC'] = {'mssim': np.array([37.88926629, 38.89358814, 39.81988814, 40.70368629, 41.67686729]),\n",
    " 'msssim': np.array([0.97621486, 0.980982  , 0.98448843, 0.98719086, 0.98961757]),\n",
    " 'bpp': np.array([0.01766986, 0.02421171, 0.03309286, 0.04474843, 0.062086  ]),\n",
    " 'bpp (ssim)': np.array([])}"
   ]
  },
  {
   "cell_type": "code",
   "execution_count": 6,
   "metadata": {},
   "outputs": [],
   "source": [
    "results['DCVC-HEM'] = {'mssim': np.array([37.78626343, 38.84225957, 39.87101529, 40.84753071, 41.82027771]),\n",
    " 'msssim': np.array([0.97579786, 0.98085471, 0.984734  , 0.98769186, 0.990226  ]),\n",
    " 'bpp': np.array([0.02068743, 0.02818314, 0.03873086, 0.052996  , 0.07271329]),\n",
    " 'bpp (ssim)': np.array([], dtype=np.float64)}"
   ]
  },
  {
   "cell_type": "code",
   "execution_count": 7,
   "metadata": {},
   "outputs": [
    {
     "data": {
      "text/plain": [
       "{'psnr': array([32.48781465, 33.93171086, 35.26738949, 36.43507358, 37.51903957,\n",
       "        38.49818091, 39.37668041, 40.42103526]),\n",
       " 'msssim': array([0.93044688, 0.95074134, 0.963783  , 0.9738082 , 0.98048446,\n",
       "        0.9857408 , 0.98995409]),\n",
       " 'bpp': array([0.01379242, 0.02236252, 0.03499904, 0.05489412, 0.08854167,\n",
       "        0.15123797, 0.26794948, 0.49367069]),\n",
       " 'bpp (ssim)': array([0.01295226, 0.02302156, 0.04096084, 0.07894401, 0.14644524,\n",
       "        0.26371676, 0.47123692])}"
      ]
     },
     "execution_count": 7,
     "metadata": {},
     "output_type": "execute_result"
    }
   ],
   "source": [
    "#@title VCT\n",
    "n = \"VCT\"\n",
    "results[n][\"bpp\"] = np.array([\n",
    "        0.013792417188551986,\n",
    "        0.022362519427357862,\n",
    "        0.0349990398529917,\n",
    "        0.054894117672617246,\n",
    "        0.08854167145100376,\n",
    "        0.15123796656373,\n",
    "        0.26794948341945807,\n",
    "        0.4936706910424289,\n",
    "    ])\n",
    "results[n][\"mssim\"] = np.array([\n",
    "    32.487814650308515,\n",
    "    33.931710855393185,\n",
    "    35.267389486403694,\n",
    "    36.43507358278548,\n",
    "    37.51903957003639,\n",
    "    38.49818090529669,\n",
    "    39.37668041320074,\n",
    "    40.42103525797527,\n",
    "])\n",
    "results[n][\"msssim\"] = np.array([\n",
    "    0.9304468844901947,\n",
    "    0.950741335139388,\n",
    "    0.9637830031343867,\n",
    "    0.9738082034247262,\n",
    "    0.9804844583641915,\n",
    "    0.9857407963701658,\n",
    "    0.989954089891343\n",
    "])\n",
    "results[n][\"bpp (ssim)\"] = np.array([\n",
    "    0.012952257920211803,\n",
    "    0.0230215588440409,\n",
    "    0.040960844996873115,\n",
    "    0.07894400571073804,\n",
    "    0.14644523799419404,\n",
    "    0.26371675850380033,\n",
    "    0.47123691950525554,\n",
    "])\n",
    "results[n]"
   ]
  },
  {
   "cell_type": "code",
   "execution_count": 8,
   "metadata": {},
   "outputs": [
    {
     "data": {
      "text/plain": [
       "{'psnr': array([40.6279247 , 38.87910689, 38.08263505, 36.21770756, 34.30147851,\n",
       "        32.29889358, 30.17638257, 28.14922979]),\n",
       " 'msssim': array([0.98629139, 0.97984159, 0.97548131, 0.96386381, 0.94857731,\n",
       "        0.92472389, 0.88768521, 0.84025739]),\n",
       " 'bpp': array([0.44765705, 0.20553488, 0.12709231, 0.04547707, 0.02106985,\n",
       "        0.0096534 , 0.00432552, 0.00237424]),\n",
       " 'bpp (ssim)': []}"
      ]
     },
     "execution_count": 8,
     "metadata": {},
     "output_type": "execute_result"
    }
   ],
   "source": [
    "#@title H.265\n",
    "n = \"x.265 (med)\"\n",
    "results[n][\"bpp\"] = np.array([\n",
    "    111391.40022857141,\n",
    "    51143.65531428571,\n",
    "    31624.63245714286,\n",
    "    11316.149257142857,\n",
    "    5242.852114285714,\n",
    "    2402.074742857142,\n",
    "    1076.3268571428573,\n",
    "    590.7865142857142\n",
    "]) * 1000 / (120 * 1080 * 1920)\n",
    "results[n][\"mssim\"] = np.array([\n",
    "    40.62792470433646,\n",
    "    38.879106885831035,\n",
    "    38.082635051648296,\n",
    "    36.217707555419395,\n",
    "    34.301478511731304,\n",
    "    32.298893577496685,\n",
    "    30.176382565283113,\n",
    "    28.149229788564973\n",
    "])\n",
    "results[n][\"msssim\"] = np.array([\n",
    "    0.9862913915089199,\n",
    "    0.9798415899276733,\n",
    "    0.9754813058035714,\n",
    "    0.9638638070651463,\n",
    "    0.948577310357775,\n",
    "    0.9247238891465324,\n",
    "    0.887685205255236,\n",
    "    0.8402573892048427\n",
    "])\n",
    "results[n]"
   ]
  },
  {
   "cell_type": "code",
   "execution_count": 9,
   "metadata": {},
   "outputs": [
    {
     "data": {
      "text/plain": [
       "{'psnr': array([39.576, 38.377, 36.984, 35.525]),\n",
       " 'msssim': array([0.97795, 0.97319, 0.96637, 0.95646]),\n",
       " 'bpp': array([0.0989, 0.0517, 0.0279, 0.0155]),\n",
       " 'bpp (ssim)': []}"
      ]
     },
     "execution_count": 9,
     "metadata": {},
     "output_type": "execute_result"
    }
   ],
   "source": [
    "#@title HM-17.0 (RA)\n",
    "n = \"HM-17.0 (RA)\"\n",
    "results[n][\"bpp\"] = np.array([\n",
    "    0.0989,\n",
    "    0.0517,\n",
    "    0.0279,\n",
    "    0.0155\n",
    "])\n",
    "results[n][\"mssim\"] = np.array([\n",
    "    39.576,\n",
    "    38.377,\n",
    "    36.984,\n",
    "    35.525\n",
    "])\n",
    "results[n][\"msssim\"] = np.array([\n",
    "    0.97795,\n",
    "    0.97319,\n",
    "    0.96637,\n",
    "    0.95646\n",
    "])\n",
    "results[n]"
   ]
  },
  {
   "cell_type": "code",
   "execution_count": 10,
   "metadata": {},
   "outputs": [
    {
     "data": {
      "text/plain": [
       "{'psnr': array([40.15240685, 38.69360012, 37.84969601, 35.9925648 , 34.13765327,\n",
       "        32.12387442, 30.01155273, 27.97759379]),\n",
       " 'msssim': array([0.98727659, 0.98089262, 0.97601266, 0.96373918, 0.94830994,\n",
       "        0.92258203, 0.88111757, 0.82374342]),\n",
       " 'bpp': array([0.50134835, 0.2402766 , 0.14590868, 0.05483944, 0.02686908,\n",
       "        0.01443486, 0.0083177 , 0.00518215]),\n",
       " 'bpp (ssim)': []}"
      ]
     },
     "execution_count": 10,
     "metadata": {},
     "output_type": "execute_result"
    }
   ],
   "source": [
    "#@title H.264\n",
    "n = \"x.264 (med)\"\n",
    "results[n][\"bpp\"] = np.array([\n",
    "        124751.51222857145,\n",
    "        59788.50742857143,\n",
    "        36306.74834285714,\n",
    "        13645.808228571428,\n",
    "        6685.885942857143,\n",
    "        3591.855771428571,\n",
    "        2069.7104,\n",
    "        1289.485257142857\n",
    "    ]) * 1000 / (120 * 1080 * 1920)\n",
    "results[n][\"mssim\"] = np.array([\n",
    "      40.15240685237069,\n",
    "      38.69360011624202,\n",
    "      37.84969601269042,\n",
    "      35.99256480399815,\n",
    "      34.137653272277305,\n",
    "      32.123874415454885,\n",
    "      30.011552732116172,\n",
    "      27.97759378616062\n",
    "    ])\n",
    "results[n][\"msssim\"] = np.array(\n",
    "    [\n",
    "      0.987276588167463,\n",
    "      0.9808926241738456,\n",
    "      0.9760126641818455,\n",
    "      0.9637391822678703,\n",
    "      0.9483099409512111,\n",
    "      0.9225820302963257,\n",
    "      0.8811175738062177,\n",
    "      0.8237434199878148\n",
    "    ]\n",
    ")\n",
    "results[n]"
   ]
  },
  {
   "cell_type": "code",
   "execution_count": 11,
   "metadata": {},
   "outputs": [
    {
     "data": {
      "text/plain": [
       "{'psnr': array([39.57384091, 38.93261253, 37.01041425, 35.05793025, 33.19583619,\n",
       "        31.32102778, 29.15794184]),\n",
       " 'msssim': array([0.97902194, 0.97580277, 0.96707628, 0.9535023 , 0.93404593,\n",
       "        0.90662538, 0.86389605]),\n",
       " 'bpp': array([0.10761407, 0.07149769, 0.02797427, 0.01218638, 0.00554219,\n",
       "        0.00251474, 0.00114811]),\n",
       " 'bpp (ssim)': []}"
      ]
     },
     "execution_count": 11,
     "metadata": {},
     "output_type": "execute_result"
    }
   ],
   "source": [
    "#@title H.266 (VTM v15.0)\n",
    "n = \"VTM-15.0 (LD)\"\n",
    "results[n][\"bpp\"] = np.array([\n",
    "      26777.824685714288,\n",
    "      17790.914057142854,\n",
    "      6960.893714285715,\n",
    "      3032.3604571428573,\n",
    "      1379.0738285714287,\n",
    "      625.7481142857142,\n",
    "      285.6864\n",
    "]) * 1000 / (120 * 1080 * 1920)\n",
    "results[n][\"mssim\"] = np.array([\n",
    "      39.57384091423854,\n",
    "      38.93261252790453,\n",
    "      37.01041424934117,\n",
    "      35.05793025472098,\n",
    "      33.19583619300572,\n",
    "      31.321027779363924,\n",
    "      29.157941841863924\n",
    "])\n",
    "results[n][\"msssim\"] = np.array([\n",
    "      0.9790219409125192,\n",
    "      0.9758027706827436,\n",
    "      0.9670762845448085,\n",
    "      0.9535022974014282,\n",
    "      0.9340459278651646,\n",
    "      0.9066253815378461,\n",
    "      0.8638960463660104\n",
    "])\n",
    "results[n]"
   ]
  },
  {
   "cell_type": "code",
   "execution_count": 12,
   "metadata": {},
   "outputs": [
    {
     "data": {
      "text/plain": [
       "{'psnr': array([36.33692429, 37.71348286, 39.01499429, 40.1613    ]),\n",
       " 'msssim': array([0.96297229, 0.97071229, 0.97592943, 0.97948629]),\n",
       " 'bpp': array([0.013669, 0.024755, 0.046396, 0.08703 ]),\n",
       " 'bpp (ssim)': []}"
      ]
     },
     "execution_count": 12,
     "metadata": {},
     "output_type": "execute_result"
    }
   ],
   "source": [
    "#@title H.266 (VTM v21.2 - RA)\n",
    "n = \"VTM-21.2 (RA)\"\n",
    "results[n][\"bpp\"] = np.array([\n",
    "    0.013669,\n",
    "    0.024755,\n",
    "    0.046396,\n",
    "    0.08703\n",
    "])\n",
    "results[n][\"mssim\"] = np.array([\n",
    "    36.3369242857143,\n",
    "    37.7134828571429,\n",
    "    39.0149942857143,\n",
    "    40.1613\n",
    "])\n",
    "results[n][\"msssim\"] = np.array([\n",
    "    0.962972285714286,\n",
    "    0.970712285714286,\n",
    "    0.975929428571429,\n",
    "    0.979486285714286\n",
    "])\n",
    "results[n]"
   ]
  },
  {
   "cell_type": "code",
   "execution_count": 13,
   "metadata": {},
   "outputs": [
    {
     "data": {
      "text/plain": [
       "{'psnr': array([31.28, 32.53, 33.69, 34.71, 35.57, 36.59, 36.87, 37.86]),\n",
       " 'msssim': array([0.9035, 0.9224, 0.9357, 0.9464, 0.9565, 0.9622, 0.9638, 0.9692]),\n",
       " 'bpp': array([0.01347092, 0.02099497, 0.03244937, 0.04753773, 0.06672792,\n",
       "        0.12729887, 0.1461266 , 0.24968839]),\n",
       " 'bpp (ssim)': []}"
      ]
     },
     "execution_count": 13,
     "metadata": {},
     "output_type": "execute_result"
    }
   ],
   "source": [
    "#@title NeRV\n",
    "n = \"NeRV\"\n",
    "results[n][\"bpp\"] = np.array([\n",
    "    0.013470922,\n",
    "    0.020994975,\n",
    "    0.032449369,\n",
    "    0.047537734,\n",
    "    0.066727919,\n",
    "\n",
    "    0.127298867,\n",
    "    0.146126602,\n",
    "    0.24968839\n",
    "])\n",
    "results[n][\"mssim\"] = np.array([\n",
    "    31.28,\n",
    "    32.53,\n",
    "    33.69,\n",
    "    34.71,\n",
    "    35.57,\n",
    "\n",
    "    36.59,\n",
    "    36.87,\n",
    "    37.86\n",
    "])\n",
    "results[n][\"msssim\"] = np.array([\n",
    "    0.9035,\n",
    "    0.9224,\n",
    "    0.9357,\n",
    "    0.9464,\n",
    "    0.9565,\n",
    "\n",
    "    0.9622,\n",
    "    0.9638,\n",
    "    0.9692\n",
    "])\n",
    "results[n]"
   ]
  },
  {
   "cell_type": "code",
   "execution_count": 14,
   "metadata": {},
   "outputs": [
    {
     "data": {
      "text/plain": [
       "{'psnr': array([32.77, 34.39, 35.49, 37.4 ]),\n",
       " 'msssim': array([0.9166, 0.9409, 0.9539, 0.9692]),\n",
       " 'bpp': array([0.0139   , 0.0339   , 0.0498   , 0.1461266]),\n",
       " 'bpp (ssim)': []}"
      ]
     },
     "execution_count": 14,
     "metadata": {},
     "output_type": "execute_result"
    }
   ],
   "source": [
    "#@title HNeRV\n",
    "n = \"HNeRV\"\n",
    "results[n][\"bpp\"] = np.array([\n",
    "    0.0139,\n",
    "    0.0339,\n",
    "    0.0498,\n",
    "\n",
    "    0.146126602,\n",
    "])\n",
    "results[n][\"mssim\"] = np.array([\n",
    "    32.77,\n",
    "    34.39,\n",
    "    35.49,\n",
    "\n",
    "    37.4\n",
    "])\n",
    "results[n][\"msssim\"] = np.array([\n",
    "    0.9166,\n",
    "    0.9409,\n",
    "    0.9539,\n",
    "\n",
    "    0.9692\n",
    "])\n",
    "results[n]"
   ]
  },
  {
   "cell_type": "code",
   "execution_count": 15,
   "metadata": {},
   "outputs": [
    {
     "data": {
      "text/plain": [
       "{'psnr': array([34.11, 34.76, 35.74, 36.78, 37.43]),\n",
       " 'msssim': array([0.9479, 0.954 , 0.9604, 0.9668, 0.9719]),\n",
       " 'bpp': array([0.0189, 0.0262, 0.0383, 0.0609, 0.0952]),\n",
       " 'bpp (ssim)': []}"
      ]
     },
     "execution_count": 15,
     "metadata": {},
     "output_type": "execute_result"
    }
   ],
   "source": [
    "#@title D-NeRV\n",
    "n = \"D-NeRV\"\n",
    "results[n][\"bpp\"] = np.array([\n",
    "    0.0189,\n",
    "    0.0262,\n",
    "    0.0383,\n",
    "    0.0609,\n",
    "    0.0952\n",
    "])\n",
    "results[n][\"mssim\"] = np.array([\n",
    "    34.11,\n",
    "    34.76,\n",
    "    35.74,\n",
    "    36.78,\n",
    "    37.43\n",
    "])\n",
    "results[n][\"msssim\"] = np.array([\n",
    "    0.9479,\n",
    "    0.954,\n",
    "    0.9604,\n",
    "    0.9668,\n",
    "    0.9719\n",
    "])\n",
    "results[n]"
   ]
  },
  {
   "cell_type": "code",
   "execution_count": 16,
   "metadata": {},
   "outputs": [
    {
     "data": {
      "text/plain": [
       "{'psnr': array([32.25, 33.82, 34.53]),\n",
       " 'msssim': array([0.9424, 0.9574, 0.9629]),\n",
       " 'bpp': array([0.0178, 0.029 , 0.0357]),\n",
       " 'bpp (ssim)': []}"
      ]
     },
     "execution_count": 16,
     "metadata": {},
     "output_type": "execute_result"
    }
   ],
   "source": [
    "#@title HDNeRV\n",
    "n = \"HDNeRV\"\n",
    "results[n][\"bpp\"] = np.array([\n",
    "    0.0178,\n",
    "    0.0290,\n",
    "    0.0357\n",
    "])\n",
    "results[n][\"mssim\"] = np.array([\n",
    "    32.25, \n",
    "    33.82,\n",
    "    34.53\n",
    "])\n",
    "results[n][\"msssim\"] = np.array([\n",
    "    0.9424,\n",
    "    0.9574,\n",
    "    0.9629\n",
    "])\n",
    "results[n]"
   ]
  },
  {
   "cell_type": "code",
   "execution_count": 17,
   "metadata": {},
   "outputs": [
    {
     "data": {
      "text/plain": [
       "{'psnr': array([33.76, 34.57, 35.17]),\n",
       " 'msssim': array([0.9504, 0.9587, 0.963 ]),\n",
       " 'bpp': array([0.0081, 0.0145, 0.0186]),\n",
       " 'bpp (ssim)': []}"
      ]
     },
     "execution_count": 17,
     "metadata": {},
     "output_type": "execute_result"
    }
   ],
   "source": [
    "#@title HDNeRV+\n",
    "n = \"HDNeRV+\"\n",
    "results[n][\"bpp\"] = np.array([\n",
    "    0.0081,\n",
    "    0.0145,\n",
    "    0.0186\n",
    "])\n",
    "results[n][\"mssim\"] = np.array([\n",
    "    33.76, \n",
    "    34.57,\n",
    "    35.17\n",
    "])\n",
    "results[n][\"msssim\"] = np.array([\n",
    "    0.9504,\n",
    "    0.9587,\n",
    "    0.9630\n",
    "])\n",
    "results[n]"
   ]
  },
  {
   "cell_type": "code",
   "execution_count": null,
   "metadata": {},
   "outputs": [],
   "source": [
    "#@title RD curve based on mssim\n",
    "plt.plot(results[\"HDNeRV\"][\"bpp\"], results[\"HDNeRV\"][\"mssim\"], \"--\", marker=\"s\", color=\"red\", label=\"HDNeRV\")\n",
    "plt.plot(results[\"HDNeRV+\"][\"bpp\"], results[\"HDNeRV+\"][\"mssim\"], \"--\", marker=\">\", color=\"magenta\", label=\"HDNeRV+\")\n",
    "\n",
    "markers = [\"o\", \"x\", \"v\", \"^\"]\n",
    "colors = [\"orange\", \"blue\", \"green\", \"purple\"]\n",
    "for i, method in enumerate(learnings):\n",
    "    plt.plot(results[method][\"bpp\"], results[method][\"mssim\"], \"--\", color=colors[i], marker=markers[i], label=method)\n",
    "\n",
    "plt.ylabel(\"mssim\")\n",
    "plt.xlabel(\"BPP\")\n",
    "\n",
    "plt.xlim(left=0.01, right=0.1)\n",
    "plt.title(\"UVG Dataset\")\n",
    "plt.grid(True)\n",
    "plt.legend()\n",
    "plt.tight_layout()"
   ]
  }
 ],
 "metadata": {
  "kernelspec": {
   "display_name": "hcmut",
   "language": "python",
   "name": "python3"
  },
  "language_info": {
   "codemirror_mode": {
    "name": "ipython",
    "version": 3
   },
   "file_extension": ".py",
   "mimetype": "text/x-python",
   "name": "python",
   "nbconvert_exporter": "python",
   "pygments_lexer": "ipython3",
   "version": "3.8.17"
  },
  "orig_nbformat": 4
 },
 "nbformat": 4,
 "nbformat_minor": 2
}
